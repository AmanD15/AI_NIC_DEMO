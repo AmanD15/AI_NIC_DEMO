{
  "nbformat": 4,
  "nbformat_minor": 0,
  "metadata": {
    "colab": {
      "provenance": []
    },
    "kernelspec": {
      "name": "python3",
      "display_name": "Python 3"
    },
    "language_info": {
      "name": "python"
    }
  },
  "cells": [
    {
      "cell_type": "code",
      "execution_count": 102,
      "metadata": {
        "id": "Yg_53CAhAaDc"
      },
      "outputs": [],
      "source": [
        "import numpy as np"
      ]
    },
    {
      "cell_type": "code",
      "source": [
        "global inp,ker,in_r,in_col,in_chn,out_r,out_col\n",
        "in_r = 64\n",
        "in_col  = 64\n",
        "in_chn = 134\n",
        "out_r = in_r-2\n",
        "out_col = in_col-2\n",
        "\n",
        "inp = np.random.uniform(low = -10,\n",
        "                           high = 10,\n",
        "                           size = (in_chn,in_r,in_col) #size = (chn,rows,cols)\n",
        "                           ).astype(np.float32).tolist()\n",
        "\n",
        "\n",
        "ker = np.random.uniform(low = -4,\n",
        "                           high = 4,\n",
        "                           size = (in_chn,3,3) #size = (chn,rows,cols)\n",
        "                           ).astype(np.float32).tolist()\n",
        "\n",
        "\n",
        "# inp = np.ones((32,14,14),dtype=float).tolist()\n",
        "\n",
        "\n",
        "# ker = np.ones((32,3,3),dtype=float).tolist()"
      ],
      "metadata": {
        "id": "pBDTHnfwLpL4"
      },
      "execution_count": 135,
      "outputs": []
    },
    {
      "cell_type": "code",
      "source": [
        "convOut = np.zeros((out_r,out_col),dtype=float).tolist()\n",
        "convOutPool = np.zeros((out_r-2,out_r-2),dtype=float).tolist()"
      ],
      "metadata": {
        "id": "mNpfwWVylXnB"
      },
      "execution_count": 104,
      "outputs": []
    },
    {
      "cell_type": "code",
      "source": [
        "def fetchGroup(chn,row,col,inter_pipe):\n",
        "  for j in range(col,col+3):\n",
        "    for i in range(row,row+3):\n",
        "      for k in range(chn,chn+8):\n",
        "        if(k>=in_chn):\n",
        "          inter_pipe.append(0)\n",
        "          continue\n",
        "        ##for padding, whenever we are on 0th or last row/col, we return a 0 cylinder\n",
        "        if(i==0 or j==0 or i == (in_r+1) or j==(in_col+1)):\n",
        "          inter_pipe.append(0)\n",
        "        else:\n",
        "          inter_pipe.append(inp[k][i-1][j-1])\n",
        "  return"
      ],
      "metadata": {
        "id": "5MYY22mzMrzP"
      },
      "execution_count": 119,
      "outputs": []
    },
    {
      "cell_type": "code",
      "source": [
        "def convolveGroup(inGroup,kerGroup):\n",
        "  temp_out = 0\n",
        "  for i in range(len(inGroup)):\n",
        "    temp_out+=(inGroup[i] * kerGroup[i])\n",
        "  return temp_out"
      ],
      "metadata": {
        "id": "pTQWpjO_PjP5"
      },
      "execution_count": 107,
      "outputs": []
    },
    {
      "cell_type": "code",
      "source": [
        "def fetchKernel(chn,kern_pipe):\n",
        "  for j in range(3):\n",
        "    for i in range(3):\n",
        "      for k in range(chn,chn+8):\n",
        "        if(k>=in_chn):\n",
        "          kern_pipe.append(0)\n",
        "          continue\n",
        "        kern_pipe.append(ker[k][i][j])\n",
        "  return"
      ],
      "metadata": {
        "id": "9V6kRf0GT_ZH"
      },
      "execution_count": 131,
      "outputs": []
    },
    {
      "cell_type": "code",
      "source": [
        "def applyActivation(out):\n",
        "  if out>0:\n",
        "    return out\n",
        "  return 0"
      ],
      "metadata": {
        "id": "wd9O4_8D3VSe"
      },
      "execution_count": 109,
      "outputs": []
    },
    {
      "cell_type": "code",
      "source": [
        "def sendPool(pool_buffer_r0,pool_buffer_r1, pool_buffer_r2,final_pool_buffer):\n",
        "  assert len(final_pool_buffer) == 0\n",
        "  inter_maxPool_buffer = []\n",
        "  pool_buf_len = len(pool_buffer_r0)\n",
        "\n",
        "  for i in range(pool_buf_len):\n",
        "    r0_val = pool_buffer_r0.pop(0)\n",
        "    r1_val = pool_buffer_r1.pop(0)\n",
        "    r2_val = pool_buffer_r2.pop(0)\n",
        "    inter_maxPool_buffer.append(max(r0_val,r1_val,r2_val))\n",
        "    pool_buffer_r0.append(r1_val)\n",
        "    pool_buffer_r1.append(r2_val)\n",
        "  # print(inter_maxPool_buffer)\n",
        "  assert len(pool_buffer_r0) == pool_buf_len\n",
        "  assert len(pool_buffer_r2) == 0\n",
        "\n",
        "  max_val_col0 = inter_maxPool_buffer.pop(0)\n",
        "  max_val_col1 = inter_maxPool_buffer.pop(0)\n",
        "  max_val_col2 = inter_maxPool_buffer.pop(0)\n",
        "\n",
        "  final_pool_buffer.append(max(max_val_col0,max_val_col1,max_val_col2))\n",
        "\n",
        "  max_val_col0 = max_val_col1\n",
        "  max_val_col1 = max_val_col2\n",
        "\n",
        "  inter_buf_len = len(inter_maxPool_buffer)\n",
        "  for i in range(inter_buf_len):\n",
        "    max_val_col2 = inter_maxPool_buffer.pop(0)\n",
        "    final_pool_buffer.append(max(max_val_col0,max_val_col1,max_val_col2))\n",
        "    max_val_col0 = max_val_col1\n",
        "    max_val_col1 = max_val_col2\n",
        "\n",
        "  assert len(inter_maxPool_buffer) == 0\n",
        "  assert len(final_pool_buffer) == pool_buf_len-2\n",
        "  return"
      ],
      "metadata": {
        "id": "MUuIXp5KuDSr"
      },
      "execution_count": 123,
      "outputs": []
    },
    {
      "cell_type": "code",
      "source": [
        "import time\n",
        "fetch_time = []\n",
        "comp_time = []\n",
        "\n",
        "depth = in_chn//8\n",
        "if(in_chn%8 != 0 ):\n",
        "  depth+=1\n",
        "\n",
        "\n",
        "# Parameters for pooling\n",
        "pool = True\n",
        "pool_buffer_r0 = []\n",
        "pool_buffer_r1 = []\n",
        "pool_buffer_r2 = []\n",
        "cur_pool_row = 0\n",
        "final_pool_buffer = []\n",
        "\n",
        "# Parameters for Activation\n",
        "activation = False\n",
        "\n",
        "# Parameters for padding\n",
        "pad = True\n",
        "if pad:\n",
        "  out_r = in_r\n",
        "  out_col = in_col\n",
        "  convOut = np.zeros((out_r,out_col),dtype=float).tolist()\n",
        "  convOutPool = np.zeros((out_r-2,out_r-2),dtype=float).tolist()\n",
        "\n",
        "for r in range(out_r):\n",
        "  for c in range(out_col):\n",
        "    out = 0\n",
        "\n",
        "    for chn in range(depth):\n",
        "      inter_pipe = []\n",
        "      in_pipe = []\n",
        "      ker_pipe = []\n",
        "      # Fetch Input Group\n",
        "      start = time.time()\n",
        "      fetchGroup(chn*8,r,c,inter_pipe)\n",
        "      end = time.time()\n",
        "      fetch_time.append(end - start)\n",
        "\n",
        "      pipeLen = len(inter_pipe)\n",
        "      for i in range(pipeLen):\n",
        "        in_pipe.append(inter_pipe.pop(0))\n",
        "\n",
        "      # Fetch Kernel\n",
        "      fetchKernel(chn*8,ker_pipe)\n",
        "\n",
        "      start = time.time()\n",
        "      out += convolveGroup(in_pipe,ker_pipe)\n",
        "      end = time.time()\n",
        "      comp_time.append(end - start)\n",
        "    # Apply non-activation if required\n",
        "    if activation:\n",
        "      out = applyActivation(out)\n",
        "    # Apply Pooling if required\n",
        "    if pool:\n",
        "      if r == 0:\n",
        "        pool_buffer_r0.append(out)\n",
        "      elif r == 1:\n",
        "        pool_buffer_r1.append(out)\n",
        "      else:\n",
        "        pool_buffer_r2.append(out)\n",
        "        if c >= (out_col-1):\n",
        "          sendPool(pool_buffer_r0,pool_buffer_r1, pool_buffer_r2,final_pool_buffer)\n",
        "          pool_buf_cols =  len(final_pool_buffer)\n",
        "          for cur_pool_col in range(pool_buf_cols):\n",
        "            convOutPool[cur_pool_row][cur_pool_col] = final_pool_buffer.pop(0)\n",
        "          cur_pool_row+=1\n",
        "\n",
        "    convOut[r][c] = out\n",
        "\n",
        "print(convOut[0])\n",
        "if pool:\n",
        "  print(convOutPool[0])\n"
      ],
      "metadata": {
        "colab": {
          "base_uri": "https://localhost:8080/"
        },
        "id": "4XG11XHcRCNl",
        "outputId": "02d2bdfd-c1e9-47b3-e8b7-1eef8c42345b"
      },
      "execution_count": 136,
      "outputs": [
        {
          "output_type": "stream",
          "name": "stdout",
          "text": [
            "[-363.1174184196851, 104.94978954107145, -355.1291418964718, -924.0769430759444, -155.4464010109909, -333.42117131944354, 501.18174197954806, 133.18448941015598, -268.3455394920324, 365.0226975411879, 599.6275772173351, -281.7766485083101, -650.9587847152724, 103.21439275398613, 160.37592718418773, -474.73471713902074, 80.40148359626548, -420.5356775990176, 343.16970692892716, 496.80809355376675, -426.4424001846249, 141.94717869374352, 145.9058824075056, 144.6381067372473, -22.439364306256223, 301.7159581359158, 408.77506290354177, -18.78915611720123, 298.05081342772223, -611.1996227254696, 14.61247191602638, 473.2489849078562, 236.43997471765812, 196.33937312457073, -179.29107080629942, 189.69068928799746, -197.84512933762602, 60.53507617302495, 306.2128686695562, 469.15000971315925, -24.2751546328721, -152.0671123979198, 149.88744197636248, 515.8300689992238, -75.13934231374733, 195.05276702387943, 276.9291945730574, -478.4243370368022, 263.8283850420777, 324.70880966399096, 96.46882705191734, -24.269862049753627, -152.49033960072964, 231.51129921743245, -297.9124790751771, 475.8789505477759, -193.24988745135533, -279.0776143500032, 65.75382652191902, 23.147917991706095, -49.54119949492704, -320.0308221888956, 278.55822572150544, 124.48088573643906]\n",
            "[549.9942280423995, 549.9942280423995, 644.3797274678616, 644.3797274678616, 644.3797274678616, 501.18174197954806, 1075.063670084375, 1075.063670084375, 1075.063670084375, 677.7543038212921, 677.7543038212921, 103.21439275398613, 746.0010754509134, 746.0010754509134, 746.0010754509134, 223.98675280743177, 343.16970692892716, 693.066365647647, 693.066365647647, 693.066365647647, 146.66861770522166, 395.94862001414265, 395.94862001414265, 395.94862001414265, 408.77506290354177, 408.77506290354177, 924.1073021817982, 924.1073021817982, 924.1073021817982, 686.7736319684204, 686.7736319684204, 473.2489849078562, 236.43997471765812, 356.8685976645751, 356.8685976645751, 356.8685976645751, 667.7443253433723, 667.7443253433723, 667.7443253433723, 469.15000971315925, 149.88744197636248, 515.8300689992238, 937.0812022509001, 1064.2808892595185, 1064.2808892595185, 1064.2808892595185, 923.6804064947452, 923.6804064947452, 594.1159697655532, 594.1159697655532, 96.46882705191734, 231.51129921743245, 231.51129921743245, 475.8789505477759, 475.8789505477759, 475.8789505477759, 777.7482556709941, 777.7482556709941, 777.7482556709941, 293.92649335068495, 513.7693128655471, 858.9692609312593]\n"
          ]
        }
      ]
    },
    {
      "cell_type": "code",
      "source": [
        "# print(fetch_time)\n",
        "# print(comp_time)\n",
        "print(\"Total Fetch Time \",sum(fetch_time)*1000,\" ms\")\n",
        "print(\"Total Compute Time \",sum(comp_time)*1000,\" ms\")"
      ],
      "metadata": {
        "id": "2fRDKWofk7ng",
        "colab": {
          "base_uri": "https://localhost:8080/"
        },
        "outputId": "53d0949f-ee31-418d-d28c-ba9dbcc21e93"
      },
      "execution_count": 137,
      "outputs": [
        {
          "output_type": "stream",
          "name": "stdout",
          "text": [
            "Total Fetch Time  2021.1544036865234  ms\n",
            "Total Compute Time  589.8172855377197  ms\n"
          ]
        }
      ]
    },
    {
      "cell_type": "code",
      "source": [
        "import torch\n",
        "import torch.nn.functional as F\n",
        "\n",
        "new_inp = np.expand_dims(np.array(inp),axis=0)\n",
        "new_ker = np.expand_dims(np.array(ker),axis=0)\n",
        "\n",
        "inp_tensor = torch.from_numpy(new_inp)\n",
        "ker_tensor = torch.from_numpy(new_ker)\n",
        "# tensor_out = F.conv2d(input=inp_tensor,weight=ker_tensor)\n",
        "tensor_out = F.conv2d(input=inp_tensor,weight=ker_tensor,padding = 1)\n",
        "tensor_pool_out = F.max_pool2d(input = tensor_out,kernel_size=3,stride=1)\n",
        "torch_imp_tensor = tensor_out[0][0]\n",
        "print(torch_imp_tensor[0])\n",
        "if pool:\n",
        "  torch_imp_pool_tensor = tensor_pool_out[0][0]\n",
        "  print(torch_imp_pool_tensor[0])"
      ],
      "metadata": {
        "id": "7Z9Jh1WfZcJM",
        "colab": {
          "base_uri": "https://localhost:8080/"
        },
        "outputId": "0b8dbcf7-852d-4758-d5ab-da264f152340"
      },
      "execution_count": 138,
      "outputs": [
        {
          "output_type": "stream",
          "name": "stdout",
          "text": [
            "tensor([-363.1174,  104.9498, -355.1291, -924.0769, -155.4464, -333.4212,\n",
            "         501.1817,  133.1845, -268.3455,  365.0227,  599.6276, -281.7766,\n",
            "        -650.9588,  103.2144,  160.3759, -474.7347,   80.4015, -420.5357,\n",
            "         343.1697,  496.8081, -426.4424,  141.9472,  145.9059,  144.6381,\n",
            "         -22.4394,  301.7160,  408.7751,  -18.7892,  298.0508, -611.1996,\n",
            "          14.6125,  473.2490,  236.4400,  196.3394, -179.2911,  189.6907,\n",
            "        -197.8451,   60.5351,  306.2129,  469.1500,  -24.2752, -152.0671,\n",
            "         149.8874,  515.8301,  -75.1393,  195.0528,  276.9292, -478.4243,\n",
            "         263.8284,  324.7088,   96.4688,  -24.2699, -152.4903,  231.5113,\n",
            "        -297.9125,  475.8790, -193.2499, -279.0776,   65.7538,   23.1479,\n",
            "         -49.5412, -320.0308,  278.5582,  124.4809], dtype=torch.float64)\n",
            "tensor([ 549.9942,  549.9942,  644.3797,  644.3797,  644.3797,  501.1817,\n",
            "        1075.0637, 1075.0637, 1075.0637,  677.7543,  677.7543,  103.2144,\n",
            "         746.0011,  746.0011,  746.0011,  223.9868,  343.1697,  693.0664,\n",
            "         693.0664,  693.0664,  146.6686,  395.9486,  395.9486,  395.9486,\n",
            "         408.7751,  408.7751,  924.1073,  924.1073,  924.1073,  686.7736,\n",
            "         686.7736,  473.2490,  236.4400,  356.8686,  356.8686,  356.8686,\n",
            "         667.7443,  667.7443,  667.7443,  469.1500,  149.8874,  515.8301,\n",
            "         937.0812, 1064.2809, 1064.2809, 1064.2809,  923.6804,  923.6804,\n",
            "         594.1160,  594.1160,   96.4688,  231.5113,  231.5113,  475.8790,\n",
            "         475.8790,  475.8790,  777.7483,  777.7483,  777.7483,  293.9265,\n",
            "         513.7693,  858.9693], dtype=torch.float64)\n"
          ]
        }
      ]
    },
    {
      "cell_type": "code",
      "source": [
        "our_impl_tensor = torch.from_numpy(np.array(convOut))\n",
        "diff = torch.sub(our_impl_tensor,torch_imp_tensor)\n",
        "# our_impl_tensor = torch.from_numpy(np.array(convOutPool))\n",
        "# diff = torch.sub(our_impl_tensor,torch_imp_pool_tensor)\n",
        "print(\"Max difference between our implementation and torch implementation \",torch.max(diff))\n",
        "print(\"Min difference between our implementation and torch implementation \",torch.min(diff))"
      ],
      "metadata": {
        "id": "QXpHjiSrZ10H",
        "colab": {
          "base_uri": "https://localhost:8080/"
        },
        "outputId": "e4cff8aa-660d-405e-ef4d-8f7217bdb79e"
      },
      "execution_count": 139,
      "outputs": [
        {
          "output_type": "stream",
          "name": "stdout",
          "text": [
            "Max difference between our implementation and torch implementation  tensor(2.5011e-12, dtype=torch.float64)\n",
            "Min difference between our implementation and torch implementation  tensor(-3.1832e-12, dtype=torch.float64)\n"
          ]
        }
      ]
    },
    {
      "cell_type": "code",
      "source": [
        "\n",
        "diff_indices = torch.nonzero(diff)\n",
        "for indi in diff_indices:\n",
        "  row = indi[0]\n",
        "  col = indi[1]\n",
        "  print(\"Value I got \",our_impl_tensor[row][col])\n",
        "  print(\"Value pytorch got \",torch_imp_tensor[row][col])\n",
        "  print(\"Difference Value is \",diff[row][col])\n",
        "  meas = our_impl_tensor[row][col]\n",
        "  real = torch_imp_tensor[row][col].numpy()\n",
        "  error = abs(diff[row][col].numpy())\n",
        "  print(\"Relative error is \", abs(error/real)*100)\n",
        "  print()"
      ],
      "metadata": {
        "id": "iT0-sEtKZ8j3"
      },
      "execution_count": null,
      "outputs": []
    }
  ]
}