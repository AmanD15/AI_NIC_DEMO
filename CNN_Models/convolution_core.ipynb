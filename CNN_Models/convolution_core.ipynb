{
  "nbformat": 4,
  "nbformat_minor": 0,
  "metadata": {
    "colab": {
      "provenance": []
    },
    "kernelspec": {
      "name": "python3",
      "display_name": "Python 3"
    },
    "language_info": {
      "name": "python"
    }
  },
  "cells": [
    {
      "cell_type": "code",
      "source": [
        "import random\n",
        "import numpy as np"
      ],
      "metadata": {
        "id": "CedAqjxtPQPu"
      },
      "execution_count": 113,
      "outputs": []
    },
    {
      "cell_type": "code",
      "execution_count": 114,
      "metadata": {
        "id": "FBj21RyMNNoB"
      },
      "outputs": [],
      "source": [
        "# input of size 74 x 74 x 32 in 16 bit float\n",
        "\n",
        "# Array of random numbers between -100 to 100\n",
        "inp = np.random.uniform(low = -10,\n",
        "                           high = 10,\n",
        "                           size = (32,74,74) #size = (chn,rows,cols)\n",
        "                           ).astype(np.float16)\n",
        "\n",
        "\n",
        "ker = np.random.uniform(low = -4,\n",
        "                           high = 4,\n",
        "                           size = (32,3,3) #size = (chn,rows,cols)\n",
        "                           ).astype(np.float16)\n",
        "\n",
        "\n"
      ]
    },
    {
      "cell_type": "code",
      "source": [
        "out = np.zeros((72,72), dtype=np.float16)\n",
        "out_buffer = np.zeros((36,), dtype=np.float32)"
      ],
      "metadata": {
        "id": "YcZGn1hbSt5F"
      },
      "execution_count": 115,
      "outputs": []
    },
    {
      "cell_type": "code",
      "source": [
        "def mac(inp,ker):\n",
        "  acc = 0\n",
        "  num_cyl = len(inp)\n",
        "  num_chn = len(inp[0])\n",
        "  for cyl in range(num_cyl):\n",
        "    for chn in range(num_chn):\n",
        "      acc += (inp[cyl][chn]*ker[cyl][chn])\n",
        "  return acc"
      ],
      "metadata": {
        "id": "bomOj5RE_tq5"
      },
      "execution_count": 116,
      "outputs": []
    },
    {
      "cell_type": "code",
      "source": [
        "row = 0\n",
        "partitions = 72 // 36\n",
        "chn = 0\n",
        "part = 0\n",
        "\n",
        "\n",
        "while(row<72):\n",
        "  part = 0\n",
        "  while(part<partitions):\n",
        "    out_buffer = np.zeros((36,),dtype=np.float32)\n",
        "    start_col = part*36\n",
        "    end_col = (part+1)*36\n",
        "    # ----------------------------- Computation of 36 final output values -----------------------------------\n",
        "    chn = 0\n",
        "    while(chn<32):\n",
        "\n",
        "      # Kernel cylinders will be fixed for 1 iteration of partial output calculation\n",
        "      kcyl1 = np.array([ker[chn+i][0][0] for i in range(8)]).astype(np.float32)\n",
        "      kcyl2 = np.array([ker[chn+i][0][1] for i in range(8)]).astype(np.float32)\n",
        "      kcyl3 = np.array([ker[chn+i][0][2] for i in range(8)]).astype(np.float32)\n",
        "\n",
        "      kcyl4 = np.array([ker[chn+i][1][0] for i in range(8)]).astype(np.float32)\n",
        "      kcyl5 = np.array([ker[chn+i][1][1] for i in range(8)]).astype(np.float32)\n",
        "      kcyl6 = np.array([ker[chn+i][1][2] for i in range(8)]).astype(np.float32)\n",
        "\n",
        "      kcyl7 = np.array([ker[chn+i][2][0] for i in range(8)]).astype(np.float32)\n",
        "      kcyl8 = np.array([ker[chn+i][2][1] for i in range(8)]).astype(np.float32)\n",
        "      kcyl9 = np.array([ker[chn+i][2][2] for i in range(8)]).astype(np.float32)\n",
        "\n",
        "      kernel_cylinders = [kcyl1, kcyl2, kcyl3,\n",
        "                          kcyl4, kcyl5, kcyl6,\n",
        "                          kcyl7, kcyl8, kcyl9\n",
        "                          ]\n",
        "      # ----------------------------- Computation of 36 partial output values -----------------------------------\n",
        "      col = start_col\n",
        "      while(col < end_col):\n",
        "        ker_pos = 0\n",
        "        # ----------------------- Convolution between input and kernels -----------------------------\n",
        "        while(ker_pos<6): # Unroll the following loop in final implementation\n",
        "        # Input cylinders\n",
        "          incyl1 = np.array([inp[chn+i][row][(col)+ker_pos] for i in range(8)]).astype(np.float32)\n",
        "          incyl2 = np.array([inp[chn+i][row][(col+1)+ker_pos] for i in range(8)]).astype(np.float32)\n",
        "          incyl3 = np.array([inp[chn+i][row][(col+2)+ker_pos] for i in range(8)]).astype(np.float32)\n",
        "\n",
        "          incyl4 = np.array([inp[chn+i][row+1][(col)+ker_pos] for i in range(8)]).astype(np.float32)\n",
        "          incyl5 = np.array([inp[chn+i][row+1][(col+1)+ker_pos] for i in range(8)]).astype(np.float32)\n",
        "          incyl6 = np.array([inp[chn+i][row+1][(col+2)+ker_pos] for i in range(8)]).astype(np.float32)\n",
        "\n",
        "          incyl7 = np.array([inp[chn+i][row+2][(col)+ker_pos] for i in range(8)]).astype(np.float32)\n",
        "          incyl8 = np.array([inp[chn+i][row+2][(col+1)+ker_pos] for i in range(8)]).astype(np.float32)\n",
        "          incyl9 = np.array([inp[chn+i][row+2][(col+2)+ker_pos] for i in range(8)]).astype(np.float32)\n",
        "\n",
        "          input_cylinders = [incyl1, incyl2, incyl3,\n",
        "                              incyl4, incyl5, incyl6,\n",
        "                              incyl7, incyl8, incyl9\n",
        "                              ]\n",
        "\n",
        "          dot_prod = mac(input_cylinders,kernel_cylinders)\n",
        "          out_buffer[(col+ker_pos)%36] += dot_prod\n",
        "\n",
        "          ker_pos+=1\n",
        "        col+=6\n",
        "        # ----------------------------- End of Computation of 36 partial output values -----------------------------------\n",
        "      chn+=8\n",
        "    # ----------------------------- End of computation of 36 final output values -----------------------------------\n",
        "    # print(out_buffer)\n",
        "    for ind in range(36):\n",
        "      out[row][start_col+ind] = out_buffer[ind]\n",
        "    part+=1\n",
        "  # print(row)\n",
        "  row+=1\n",
        "\n",
        "# print(out)\n",
        "our_impl_tensor = torch.from_numpy(out).half()\n",
        "print(our_impl_tensor)"
      ],
      "metadata": {
        "colab": {
          "base_uri": "https://localhost:8080/"
        },
        "id": "iqepUo0xfbKX",
        "outputId": "4cb0fd2b-eb24-44e4-b306-48c9d2e19821"
      },
      "execution_count": 117,
      "outputs": [
        {
          "output_type": "stream",
          "name": "stdout",
          "text": [
            "tensor([[ -25.7656, -167.5000,  130.7500,  ...,  -10.5312, -102.5000,\n",
            "         -106.0000],\n",
            "        [  20.4531,  -52.3125, -127.3750,  ...,  102.6250,  -72.8125,\n",
            "          113.4375],\n",
            "        [-104.4375, -533.0000,    6.9414,  ...,  -70.8125,  -88.0000,\n",
            "         -321.2500],\n",
            "        ...,\n",
            "        [  91.4375,  125.7500,  280.2500,  ..., -129.8750, -146.6250,\n",
            "         -151.2500],\n",
            "        [  79.8750,  -42.4688,    8.9609,  ..., -282.5000,  -28.4375,\n",
            "          225.5000],\n",
            "        [-134.5000, -241.5000,  151.0000,  ..., -126.4375, -202.5000,\n",
            "          108.0625]], dtype=torch.float16)\n"
          ]
        }
      ]
    },
    {
      "cell_type": "code",
      "source": [
        "import torch\n",
        "import torch.nn.functional as F\n",
        "\n",
        "new_inp = np.expand_dims(inp,axis=0)\n",
        "new_ker = np.expand_dims(ker,axis=0)\n",
        "\n",
        "inp_tensor = torch.from_numpy(new_inp.astype(np.float32))\n",
        "ker_tensor = torch.from_numpy(new_ker.astype(np.float32))\n",
        "tensor_out = F.conv2d(input=inp_tensor,weight=ker_tensor)\n",
        "\n",
        "torch_imp_tensor = tensor_out.half()[0][0]\n",
        "print(torch_imp_tensor)"
      ],
      "metadata": {
        "colab": {
          "base_uri": "https://localhost:8080/"
        },
        "id": "3-hMTs--gJcn",
        "outputId": "5be334a5-bbe9-4c3e-ed8e-4ceb017ec679"
      },
      "execution_count": 118,
      "outputs": [
        {
          "output_type": "stream",
          "name": "stdout",
          "text": [
            "tensor([[ -25.7656, -167.5000,  130.7500,  ...,  -10.5312, -102.5000,\n",
            "         -106.0000],\n",
            "        [  20.4531,  -52.3125, -127.3750,  ...,  102.6250,  -72.8125,\n",
            "          113.4375],\n",
            "        [-104.4375, -533.0000,    6.9414,  ...,  -70.8125,  -88.0000,\n",
            "         -321.2500],\n",
            "        ...,\n",
            "        [  91.4375,  125.7500,  280.2500,  ..., -129.8750, -146.6250,\n",
            "         -151.2500],\n",
            "        [  79.8750,  -42.4688,    8.9609,  ..., -282.5000,  -28.4375,\n",
            "          225.5000],\n",
            "        [-134.5000, -241.5000,  151.0000,  ..., -126.4375, -202.5000,\n",
            "          108.0625]], dtype=torch.float16)\n"
          ]
        }
      ]
    },
    {
      "cell_type": "code",
      "source": [
        "diff = torch.sub(our_impl_tensor,torch_imp_tensor)\n",
        "print(\"Max difference between our implementation and torch implementation \",torch.max(diff))\n",
        "print(\"Min difference between our implementation and torch implementation \",torch.min(diff))"
      ],
      "metadata": {
        "colab": {
          "base_uri": "https://localhost:8080/"
        },
        "id": "UtX-pvSmYWzB",
        "outputId": "d876f077-beb7-4f40-cb6f-6a0e9dc7170e"
      },
      "execution_count": 119,
      "outputs": [
        {
          "output_type": "stream",
          "name": "stdout",
          "text": [
            "Max difference between our implementation and torch implementation  tensor(0.0010, dtype=torch.float16)\n",
            "Min difference between our implementation and torch implementation  tensor(0., dtype=torch.float16)\n"
          ]
        }
      ]
    },
    {
      "cell_type": "code",
      "source": [
        "\n",
        "diff_indices = torch.nonzero(diff)\n",
        "for indi in diff_indices:\n",
        "  row = indi[0]\n",
        "  col = indi[1]\n",
        "  print(\"Value I got \",our_impl_tensor[row][col])\n",
        "  print(\"Value pytorch got \",torch_imp_tensor[row][col])\n",
        "  print(\"Difference Value is \",diff[row][col])\n",
        "  meas = our_impl_tensor[row][col]\n",
        "  real = torch_imp_tensor[row][col].numpy()\n",
        "  error = abs(diff[row][col].numpy())\n",
        "  print(\"Relative error is \", abs(error/real)*100)\n",
        "  print()"
      ],
      "metadata": {
        "colab": {
          "base_uri": "https://localhost:8080/"
        },
        "id": "tojItrp2YH60",
        "outputId": "3f9225f9-f7c8-4b14-d990-beca1b3b6635"
      },
      "execution_count": 120,
      "outputs": [
        {
          "output_type": "stream",
          "name": "stdout",
          "text": [
            "Value I got  tensor(-0.1246, dtype=torch.float16)\n",
            "Value pytorch got  tensor(-0.1247, dtype=torch.float16)\n",
            "Difference Value is  tensor(6.1035e-05, dtype=torch.float16)\n",
            "Relative error is  0.04897117614746094\n",
            "\n",
            "Value I got  tensor(0.2161, dtype=torch.float16)\n",
            "Value pytorch got  tensor(0.2159, dtype=torch.float16)\n",
            "Difference Value is  tensor(0.0001, dtype=torch.float16)\n",
            "Relative error is  0.056552886962890625\n",
            "\n",
            "Value I got  tensor(-1.5879, dtype=torch.float16)\n",
            "Value pytorch got  tensor(-1.5889, dtype=torch.float16)\n",
            "Difference Value is  tensor(0.0010, dtype=torch.float16)\n",
            "Relative error is  0.06146430969238281\n",
            "\n"
          ]
        }
      ]
    },
    {
      "cell_type": "code",
      "source": [
        "# print(torch.sub(new_out,tor_out)[0])"
      ],
      "metadata": {
        "id": "aBofK_4AYkbu"
      },
      "execution_count": 121,
      "outputs": []
    },
    {
      "cell_type": "code",
      "source": [
        "#CODE FOR CONVOLUTION\n",
        "# Jitendra Implementation\n",
        "#size of an image channel : m*n\n",
        "#no of channels: c\n",
        "#size of kernel: k*k\n",
        "#size of output buffer: buff\n",
        "#no of parallel MACs: p (3 here)\n",
        "#assuming image is padded with zeros\n",
        "\n",
        "def MAC(img,kernel,i,j,k,ch):\n",
        "  #c for number of channels, here 8\n",
        "  output = 0\n",
        "  for i in range(k):\n",
        "    for j in range(k):\n",
        "      for c in range(ch):\n",
        "        output += img[c][i][j]*kernel[c][i][j]\n",
        "  return output\n",
        "\n",
        "def convolution(image,kernel):\n",
        "  m=len(image[0])\n",
        "  n=len(image[0][0])\n",
        "  c=len(image)\n",
        "  print(c)\n",
        "  k=len(kernel[0])\n",
        "  p=3\n",
        "  x = int(m/k)\n",
        "  y = int(n/k)\n",
        "  out_buff = [[0]*y for z in range(x)]\n",
        "  for ch in range(int(c/8)):\n",
        "    i=0\n",
        "    j=0\n",
        "    while (i<=m-k):\n",
        "      out_buff[int(i/k)][int(j/k)] += MAC(image,kernel,i,j,k,c)\n",
        "      j += k\n",
        "      if j==n :\n",
        "        j = 0\n",
        "        i += k\n",
        "      if i>m-k:\n",
        "        break\n",
        "      out_buff[int(i/k)][int(j/k)] += MAC(image,kernel,i,j,k,c)\n",
        "      j += k\n",
        "      if j==n :\n",
        "        j = 0\n",
        "        i += k\n",
        "      if i>m-k:\n",
        "        break\n",
        "      out_buff[int(i/k)][int(j/k)] += MAC(image,kernel,i,j,k,c)\n",
        "      j += k\n",
        "      if j==n :\n",
        "        j = 0\n",
        "        i += k\n",
        "      if i>m-k:\n",
        "        break\n",
        "  print(out_buff)\n",
        "\n",
        "image = [[[1]*12 for i in range(9)]]*8\n",
        "kernel = [[[1]*3 for i in range(3)]]*8\n",
        "convolution(image,kernel)"
      ],
      "metadata": {
        "colab": {
          "base_uri": "https://localhost:8080/"
        },
        "id": "kvPEU_wFu5HN",
        "outputId": "757a4d03-3453-4f03-b0b7-653489e57c1c"
      },
      "execution_count": 122,
      "outputs": [
        {
          "output_type": "stream",
          "name": "stdout",
          "text": [
            "8\n",
            "[[72, 72, 72, 72], [72, 72, 72, 72], [72, 72, 72, 72]]\n"
          ]
        }
      ]
    }
  ]
}