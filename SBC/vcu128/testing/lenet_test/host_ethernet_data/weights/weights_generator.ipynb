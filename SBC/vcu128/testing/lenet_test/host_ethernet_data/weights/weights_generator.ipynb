{
  "cells": [
    {
      "cell_type": "code",
      "execution_count": 22,
      "metadata": {
        "colab": {
          "base_uri": "https://localhost:8080/"
        },
        "id": "ioqoqB1ZlLPC",
        "outputId": "162e2191-f470-44c0-a074-406e510307c4"
      },
      "outputs": [
        {
          "data": {
            "text/plain": [
              "odict_keys(['conv1.weight', 'conv1.bias', 'conv1.scale', 'conv1.zero_point', 'conv2.weight', 'conv2.bias', 'conv2.scale', 'conv2.zero_point', 'fc1.scale', 'fc1.zero_point', 'fc1._packed_params.dtype', 'fc1._packed_params._packed_params', 'fc2.scale', 'fc2.zero_point', 'fc2._packed_params.dtype', 'fc2._packed_params._packed_params', 'fc3.scale', 'fc3.zero_point', 'fc3._packed_params.dtype', 'fc3._packed_params._packed_params', 'quant.scale', 'quant.zero_point'])"
            ]
          },
          "execution_count": 22,
          "metadata": {},
          "output_type": "execute_result"
        }
      ],
      "source": [
        "import torch\n",
        "params = torch.load(\"./model_weights.pt\",map_location=\"cpu\")\n",
        "params.keys()"
      ]
    },
    {
      "cell_type": "markdown",
      "metadata": {
        "id": "GQ1YR0ivmFLD"
      },
      "source": [
        "#Weights for Stage 1"
      ]
    },
    {
      "cell_type": "code",
      "execution_count": 23,
      "metadata": {
        "id": "2Zs-2IWqmE2P"
      },
      "outputs": [],
      "source": [
        "weights = params[\"conv1.weight\"].int_repr()\n",
        "num_kern = weights.shape[0]\n",
        "channels = weights.shape[1]\n",
        "groups = (channels//8)\n",
        "\n",
        "rows = weights.shape[2]\n",
        "cols = weights.shape[3]\n",
        "\n",
        "if channels%8 != 0:\n",
        "  groups+=1\n",
        "\n",
        "rem_channels = (8*groups) - channels\n",
        "\n",
        "with open(\"weights1.txt\", \"w\") as w_file:\n",
        "  for ker_no in range(num_kern):\n",
        "    for row in range(rows):\n",
        "      for col in range(cols):\n",
        "\n",
        "        for chn in range(channels):\n",
        "          w_file.write(\"{}\\n\".format(weights[ker_no][chn][row][col]))\n",
        "        for rem_chn in range(rem_channels):\n",
        "          w_file.write(\"0\\n\")\n",
        "\n",
        "\n",
        "\n"
      ]
    },
    {
      "cell_type": "markdown",
      "metadata": {
        "id": "FCqiyAgUsSXI"
      },
      "source": [
        "#Weights for Stage 2"
      ]
    },
    {
      "cell_type": "code",
      "execution_count": 24,
      "metadata": {
        "id": "cjWIckqzsU0V"
      },
      "outputs": [],
      "source": [
        "weights = params[\"conv2.weight\"].int_repr()\n",
        "num_kern = weights.shape[0]\n",
        "channels = weights.shape[1]\n",
        "groups = (channels//8)\n",
        "\n",
        "rows = weights.shape[2]\n",
        "cols = weights.shape[3]\n",
        "\n",
        "if channels%8 != 0:\n",
        "  groups+=1\n",
        "\n",
        "rem_channels = (8*groups) - channels\n",
        "\n",
        "with open(\"weights2.txt\", \"w\") as w_file:\n",
        "  for ker_no in range(num_kern):\n",
        "    for row in range(rows):\n",
        "      for col in range(cols):\n",
        "\n",
        "        for chn in range(channels):\n",
        "          w_file.write(\"{}\\n\".format(weights[ker_no][chn][row][col]))\n",
        "        for rem_chn in range(rem_channels):\n",
        "          w_file.write(\"0\\n\")\n",
        "\n",
        "\n",
        "\n"
      ]
    },
    {
      "cell_type": "markdown",
      "metadata": {
        "id": "09zb0qtzs1wt"
      },
      "source": [
        "# Weights for Stage 3"
      ]
    },
    {
      "cell_type": "code",
      "execution_count": 25,
      "metadata": {
        "id": "UUmjwB8csdn6"
      },
      "outputs": [
        {
          "name": "stdout",
          "output_type": "stream",
          "text": [
            "32\n",
            "0\n"
          ]
        }
      ],
      "source": [
        "weights = params[\"fc1._packed_params._packed_params\"][0].int_repr()\n",
        "num_kern = weights.shape[0]\n",
        "channels = weights.shape[1]\n",
        "groups = (channels//8)\n",
        "\n",
        "\n",
        "if channels%8 != 0:\n",
        "  groups+=1\n",
        "print(groups)\n",
        "rem_channels = (8*groups) - channels\n",
        "print(rem_channels)\n",
        "# weights.shape\n",
        "with open(\"weights3.txt\", \"w\") as w_file:\n",
        "  for ker_no in range(num_kern):\n",
        "    for chn in range(channels):\n",
        "      w_file.write(\"{}\\n\".format(weights[ker_no][chn]))\n",
        "    for rem_chn in range(rem_channels):\n",
        "      w_file.write(\"0\\n\")\n",
        "\n",
        "\n",
        "\n"
      ]
    },
    {
      "cell_type": "markdown",
      "metadata": {
        "id": "4Yt1eAZpuh3K"
      },
      "source": [
        "# Weights for Stage 4"
      ]
    },
    {
      "cell_type": "code",
      "execution_count": 26,
      "metadata": {
        "colab": {
          "base_uri": "https://localhost:8080/"
        },
        "id": "05fy0LTGtyoB",
        "outputId": "90d87029-1fbe-472d-b322-ff80862b190c"
      },
      "outputs": [
        {
          "name": "stdout",
          "output_type": "stream",
          "text": [
            "120   15\n"
          ]
        }
      ],
      "source": [
        "weights = params[\"fc2._packed_params._packed_params\"][0].int_repr()\n",
        "num_kern = weights.shape[0]\n",
        "channels = weights.shape[1]\n",
        "groups = (channels//8)\n",
        "\n",
        "\n",
        "if channels%8 != 0:\n",
        "  groups+=1\n",
        "\n",
        "print(channels, \" \",groups)\n",
        "rem_channels = (8*groups) - channels\n",
        "# weights.shape\n",
        "with open(\"weights4.txt\", \"w\") as w_file:\n",
        "  for ker_no in range(num_kern):\n",
        "    for chn in range(channels):\n",
        "      w_file.write(\"{}\\n\".format(weights[ker_no][chn]))\n",
        "    for rem_chn in range(rem_channels):\n",
        "      w_file.write(\"0\\n\")\n",
        "\n",
        "\n",
        "\n"
      ]
    },
    {
      "cell_type": "code",
      "execution_count": 27,
      "metadata": {},
      "outputs": [
        {
          "name": "stdout",
          "output_type": "stream",
          "text": [
            "tensor([[  0, -54, -52,  ...,  -6, -34,  -1],\n",
            "        [ -6, -34, -26,  ..., -11, -11,  -8],\n",
            "        [ 22, -46, -60,  ...,  10, -25,   4],\n",
            "        ...,\n",
            "        [ 15, -30, -33,  ..., -13, -19,  -6],\n",
            "        [ 18, -23,   2,  ..., -28, -18,   5],\n",
            "        [  2, -30, -14,  ..., -15, -38,   9]], dtype=torch.int8)\n"
          ]
        }
      ],
      "source": [
        "print(weights)"
      ]
    },
    {
      "cell_type": "markdown",
      "metadata": {
        "id": "UccYYjf6u_ww"
      },
      "source": [
        "#Weights for Stage 5\n"
      ]
    },
    {
      "cell_type": "code",
      "execution_count": 28,
      "metadata": {
        "colab": {
          "base_uri": "https://localhost:8080/"
        },
        "id": "ZaLCSKFjuxZq",
        "outputId": "7678ccd7-4933-4f2a-cf0e-31f87c42bf78"
      },
      "outputs": [
        {
          "name": "stdout",
          "output_type": "stream",
          "text": [
            "84   11\n"
          ]
        }
      ],
      "source": [
        "weights = params[\"fc3._packed_params._packed_params\"][0].int_repr()\n",
        "num_kern = weights.shape[0]\n",
        "channels = weights.shape[1]\n",
        "groups = (channels//8)\n",
        "\n",
        "\n",
        "if channels%8 != 0:\n",
        "  groups+=1\n",
        "\n",
        "print(channels, \" \",groups)\n",
        "rem_channels = (8*groups) - channels\n",
        "# weights.shape\n",
        "with open(\"weights5.txt\", \"w\") as w_file:\n",
        "  for ker_no in range(num_kern):\n",
        "    for chn in range(channels):\n",
        "      w_file.write(\"{}\\n\".format(weights[ker_no][chn]))\n",
        "    for rem_chn in range(rem_channels):\n",
        "      w_file.write(\"0\\n\")\n",
        "\n",
        "\n",
        "\n"
      ]
    },
    {
      "cell_type": "markdown",
      "metadata": {
        "id": "RhnlYervvSWa"
      },
      "source": [
        "# Utils Data like scale and zero point"
      ]
    },
    {
      "cell_type": "code",
      "execution_count": 29,
      "metadata": {
        "colab": {
          "base_uri": "https://localhost:8080/"
        },
        "id": "-Yr3I-syvpAF",
        "outputId": "1a3161e3-6a4c-417b-d03c-ffc3b4f8f015"
      },
      "outputs": [
        {
          "name": "stdout",
          "output_type": "stream",
          "text": [
            "84   11\n"
          ]
        }
      ],
      "source": [
        "weights = params[\"fc3._packed_params._packed_params\"][0].int_repr()\n",
        "num_kern = weights.shape[0]\n",
        "channels = weights.shape[1]\n",
        "groups = (channels//8)\n",
        "\n",
        "\n",
        "if channels%8 != 0:\n",
        "  groups+=1\n",
        "\n",
        "print(channels, \" \",groups)\n",
        "rem_channels = (8*groups) - channels\n",
        "# weights.shape\n",
        "with open(\"utils.txt\", \"w\") as w_file:\n",
        "  # For Stage 1\n",
        "  inp_scale = params[\"quant.scale\"].item()\n",
        "  inp_zero_point = params[\"quant.zero_point\"].item()\n",
        "  ker_scale = params[\"conv1.weight\"].q_scale()\n",
        "  ker_zero_point = params[\"conv1.weight\"].q_zero_point()\n",
        "  conv_scale = params[\"conv1.scale\"].item()\n",
        "  conv_zero_point = params[\"conv1.zero_point\"].item()\n",
        "\n",
        "  w_file.write(\"{}\\n{}\\n\".format(inp_scale,inp_zero_point))\n",
        "  w_file.write(\"{}\\n{}\\n\".format(ker_scale,ker_zero_point))\n",
        "  w_file.write(\"{}\\n{}\\n\".format(conv_scale,conv_zero_point))\n",
        "\n",
        "  # For Stage 2\n",
        "  inp_scale = params[\"conv1.scale\"].item()\n",
        "  inp_zero_point = params[\"conv1.zero_point\"].item()\n",
        "  ker_scale = params[\"conv2.weight\"].q_scale()\n",
        "  ker_zero_point = params[\"conv2.weight\"].q_zero_point()\n",
        "  conv_scale = params[\"conv2.scale\"].item()\n",
        "  conv_zero_point = params[\"conv2.zero_point\"].item()\n",
        "\n",
        "  w_file.write(\"{}\\n{}\\n\".format(inp_scale,inp_zero_point))\n",
        "  w_file.write(\"{}\\n{}\\n\".format(ker_scale,ker_zero_point))\n",
        "  w_file.write(\"{}\\n{}\\n\".format(conv_scale,conv_zero_point))\n",
        "\n",
        "  # For Stage 3\n",
        "  inp_scale = params[\"conv2.scale\"].item()\n",
        "  inp_zero_point = params[\"conv2.zero_point\"].item()\n",
        "  ker_scale = params[\"fc1._packed_params._packed_params\"][0].q_scale()\n",
        "  ker_zero_point = params[\"fc1._packed_params._packed_params\"][0].q_zero_point()\n",
        "  conv_scale = params[\"fc1.scale\"].item()\n",
        "  conv_zero_point = params[\"fc1.zero_point\"].item()\n",
        "\n",
        "  w_file.write(\"{}\\n{}\\n\".format(inp_scale,inp_zero_point))\n",
        "  w_file.write(\"{}\\n{}\\n\".format(ker_scale,ker_zero_point))\n",
        "  w_file.write(\"{}\\n{}\\n\".format(conv_scale,conv_zero_point))\n",
        "\n",
        "  # For Stage 4\n",
        "  inp_scale = params[\"fc1.scale\"].item()\n",
        "  inp_zero_point = params[\"fc1.zero_point\"].item()\n",
        "  ker_scale = params[\"fc2._packed_params._packed_params\"][0].q_scale()\n",
        "  ker_zero_point = params[\"fc2._packed_params._packed_params\"][0].q_zero_point()\n",
        "  conv_scale = params[\"fc2.scale\"].item()\n",
        "  conv_zero_point = params[\"fc2.zero_point\"].item()\n",
        "\n",
        "  w_file.write(\"{}\\n{}\\n\".format(inp_scale,inp_zero_point))\n",
        "  w_file.write(\"{}\\n{}\\n\".format(ker_scale,ker_zero_point))\n",
        "  w_file.write(\"{}\\n{}\\n\".format(conv_scale,conv_zero_point))\n",
        "\n",
        "  # For Stage 5\n",
        "  inp_scale = params[\"fc2.scale\"].item()\n",
        "  inp_zero_point = params[\"fc2.zero_point\"].item()\n",
        "  ker_scale = params[\"fc3._packed_params._packed_params\"][0].q_scale()\n",
        "  ker_zero_point = params[\"fc3._packed_params._packed_params\"][0].q_zero_point()\n",
        "  conv_scale = params[\"fc3.scale\"].item()\n",
        "  conv_zero_point = params[\"fc3.zero_point\"].item()\n",
        "\n",
        "  w_file.write(\"{}\\n{}\\n\".format(inp_scale,inp_zero_point))\n",
        "  w_file.write(\"{}\\n{}\\n\".format(ker_scale,ker_zero_point))\n",
        "  w_file.write(\"{}\\n{}\\n\".format(conv_scale,conv_zero_point))\n",
        "\n",
        "\n",
        "\n",
        "\n",
        "\n"
      ]
    },
    {
      "cell_type": "code",
      "execution_count": 30,
      "metadata": {
        "colab": {
          "base_uri": "https://localhost:8080/"
        },
        "id": "uOBWdq_Qy8y5",
        "outputId": "b0166d1f-236e-45f5-dc0b-dc2b51216119"
      },
      "outputs": [
        {
          "data": {
            "text/plain": [
              "float"
            ]
          },
          "execution_count": 30,
          "metadata": {},
          "output_type": "execute_result"
        }
      ],
      "source": [
        "type(params[\"quant.scale\"].item())"
      ]
    }
  ],
  "metadata": {
    "colab": {
      "provenance": []
    },
    "kernelspec": {
      "display_name": "Python 3",
      "name": "python3"
    },
    "language_info": {
      "codemirror_mode": {
        "name": "ipython",
        "version": 3
      },
      "file_extension": ".py",
      "mimetype": "text/x-python",
      "name": "python",
      "nbconvert_exporter": "python",
      "pygments_lexer": "ipython3",
      "version": "3.8.10"
    }
  },
  "nbformat": 4,
  "nbformat_minor": 0
}
