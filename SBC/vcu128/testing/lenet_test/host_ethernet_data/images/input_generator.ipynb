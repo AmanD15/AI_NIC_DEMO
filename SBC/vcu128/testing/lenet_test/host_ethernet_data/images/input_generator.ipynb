{
  "cells": [
    {
      "cell_type": "code",
      "execution_count": 32,
      "metadata": {
        "id": "G0-20FcG04KN"
      },
      "outputs": [],
      "source": [
        "import torch\n",
        "import torch.nn as nn\n",
        "import torchvision.datasets as datasets\n",
        "import torch.optim as optim\n",
        "import torchvision.transforms as transforms\n",
        "from torch.utils.data import DataLoader\n",
        "from torch.autograd import Variable"
      ]
    },
    {
      "cell_type": "code",
      "execution_count": 33,
      "metadata": {
        "colab": {
          "base_uri": "https://localhost:8080/"
        },
        "id": "Zbmr07mJ8Kvc",
        "outputId": "da74741d-27ac-4e02-bf0c-ff017afe02ba"
      },
      "outputs": [],
      "source": [
        "params = torch.load(\"./model_weights.pt\",map_location=\"cpu\")\n",
        "\n",
        "transform = transforms.Compose(\n",
        "    [transforms.ToTensor(),\n",
        "     transforms.Normalize((0.5,), (0.5,))])\n",
        "\n",
        "trainset = datasets.MNIST(root='./data', train=True,\n",
        "                                        download=True, transform=transform)\n",
        "train_loader = torch.utils.data.DataLoader(trainset, batch_size=1,\n",
        "                                          shuffle=True, num_workers=16, pin_memory=True)\n",
        "\n",
        "testset = datasets.MNIST(root='./data', train=False,\n",
        "                                       download=True, transform=transform)\n",
        "test_loader = torch.utils.data.DataLoader(testset, batch_size=1,\n",
        "                                         shuffle=False, num_workers=16, pin_memory=True)\n",
        "dataset_sizes = {'train':len(trainset), 'test':len(testset)}\n"
      ]
    },
    {
      "cell_type": "code",
      "execution_count": 34,
      "metadata": {
        "colab": {
          "base_uri": "https://localhost:8080/"
        },
        "id": "LWyh2QeE9HcI",
        "outputId": "0bf23639-df72-4fbc-e380-73382c130e67"
      },
      "outputs": [],
      "source": [
        "with torch.no_grad():\n",
        "  # with open(\"inputs.txt\", \"w\") as in_file:\n",
        "    num_inputs = 10\n",
        "\n",
        "    cur_inp = 0\n",
        "    for data in test_loader:\n",
        "      inputs, labels  = data\n",
        "\n",
        "      channels = inputs.shape[1]\n",
        "\n",
        "      groups = (channels//8)\n",
        "      if channels%8 != 0:\n",
        "        groups+=1\n",
        "\n",
        "      rows = inputs.shape[2]\n",
        "      cols = inputs.shape[3]\n",
        "\n",
        "      rem_channels = (8*groups) - channels\n",
        "\n",
        "      inputs = Variable(inputs.to(\"cpu\"))\n",
        "\n",
        "      quant_in = torch.quantize_per_tensor(inputs[0], params[\"quant.scale\"].item(), params[\"quant.zero_point\"].item(), torch.quint8).int_repr()\n",
        "      # if cur_inp<(num_inputs-1):\n",
        "      #   cur_inp+=1\n",
        "      #   continue\n",
        "      filename = \"inputs\"+str(cur_inp+1)+\".txt\"\n",
        "      in_file = open(filename, 'w')\n",
        "      for row in range(rows):\n",
        "        for col in range(cols):\n",
        "          for chn in range(channels):\n",
        "            in_file.write(\"{}\\n\".format(quant_in[chn][row][col]))\n",
        "          for rem_chn in range(rem_channels):\n",
        "            in_file.write(\"0\\n\")\n",
        "      cur_inp +=1\n",
        "      in_file.close()\n",
        "      if cur_inp>=num_inputs:\n",
        "        break\n",
        "\n",
        "        # break\n"
      ]
    }
  ],
  "metadata": {
    "colab": {
      "provenance": []
    },
    "kernelspec": {
      "display_name": "Python 3",
      "name": "python3"
    },
    "language_info": {
      "codemirror_mode": {
        "name": "ipython",
        "version": 3
      },
      "file_extension": ".py",
      "mimetype": "text/x-python",
      "name": "python",
      "nbconvert_exporter": "python",
      "pygments_lexer": "ipython3",
      "version": "3.8.10"
    }
  },
  "nbformat": 4,
  "nbformat_minor": 0
}
